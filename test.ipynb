## Priting the value

print("hello world")


![Uploading meeting.PNG…]()


https://malika.s3.us-south.cloud-object-storage.appdomain.cloud/meeting.PNG
